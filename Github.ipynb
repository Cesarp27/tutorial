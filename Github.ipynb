{
  "nbformat": 4,
  "nbformat_minor": 0,
  "metadata": {
    "colab": {
      "name": "Github.ipynb",
      "provenance": [],
      "collapsed_sections": []
    },
    "kernelspec": {
      "name": "python3",
      "display_name": "Python 3"
    }
  },
  "cells": [
    {
      "cell_type": "code",
      "metadata": {
        "id": "-z2Wi4qJ9Tsi",
        "colab_type": "code",
        "colab": {}
      },
      "source": [
        "import pandas as pd\n",
        "\n",
        "#url = \"https://raw.githubusercontent.com/remijul/dataset/master/weather_orleans_2009_2020.csv\"\n",
        "#df = pd.read_csv(url)\n",
        "\n",
        "url = \"https://raw.githubusercontent.com/remijul/dataset/master/fromages.txt\"\n",
        "df = pd.read_table(url, index_col=0)"
      ],
      "execution_count": 8,
      "outputs": []
    },
    {
      "cell_type": "code",
      "metadata": {
        "id": "NLeK9CB69bhq",
        "colab_type": "code",
        "colab": {
          "base_uri": "https://localhost:8080/",
          "height": 235
        },
        "outputId": "4fae44b1-2b1a-4335-f647-4ce0eb75a676"
      },
      "source": [
        "df.head()"
      ],
      "execution_count": 9,
      "outputs": [
        {
          "output_type": "execute_result",
          "data": {
            "text/html": [
              "<div>\n",
              "<style scoped>\n",
              "    .dataframe tbody tr th:only-of-type {\n",
              "        vertical-align: middle;\n",
              "    }\n",
              "\n",
              "    .dataframe tbody tr th {\n",
              "        vertical-align: top;\n",
              "    }\n",
              "\n",
              "    .dataframe thead th {\n",
              "        text-align: right;\n",
              "    }\n",
              "</style>\n",
              "<table border=\"1\" class=\"dataframe\">\n",
              "  <thead>\n",
              "    <tr style=\"text-align: right;\">\n",
              "      <th></th>\n",
              "      <th>calories</th>\n",
              "      <th>sodium</th>\n",
              "      <th>calcium</th>\n",
              "      <th>lipides</th>\n",
              "      <th>retinol</th>\n",
              "      <th>folates</th>\n",
              "      <th>proteines</th>\n",
              "      <th>cholesterol</th>\n",
              "      <th>magnesium</th>\n",
              "    </tr>\n",
              "    <tr>\n",
              "      <th>Fromages</th>\n",
              "      <th></th>\n",
              "      <th></th>\n",
              "      <th></th>\n",
              "      <th></th>\n",
              "      <th></th>\n",
              "      <th></th>\n",
              "      <th></th>\n",
              "      <th></th>\n",
              "      <th></th>\n",
              "    </tr>\n",
              "  </thead>\n",
              "  <tbody>\n",
              "    <tr>\n",
              "      <th>CarredelEst</th>\n",
              "      <td>314</td>\n",
              "      <td>353.5</td>\n",
              "      <td>72.6</td>\n",
              "      <td>26.3</td>\n",
              "      <td>51.6</td>\n",
              "      <td>30.3</td>\n",
              "      <td>21.0</td>\n",
              "      <td>70</td>\n",
              "      <td>20</td>\n",
              "    </tr>\n",
              "    <tr>\n",
              "      <th>Babybel</th>\n",
              "      <td>314</td>\n",
              "      <td>238.0</td>\n",
              "      <td>209.8</td>\n",
              "      <td>25.1</td>\n",
              "      <td>63.7</td>\n",
              "      <td>6.4</td>\n",
              "      <td>22.6</td>\n",
              "      <td>70</td>\n",
              "      <td>27</td>\n",
              "    </tr>\n",
              "    <tr>\n",
              "      <th>Beaufort</th>\n",
              "      <td>401</td>\n",
              "      <td>112.0</td>\n",
              "      <td>259.4</td>\n",
              "      <td>33.3</td>\n",
              "      <td>54.9</td>\n",
              "      <td>1.2</td>\n",
              "      <td>26.6</td>\n",
              "      <td>120</td>\n",
              "      <td>41</td>\n",
              "    </tr>\n",
              "    <tr>\n",
              "      <th>Bleu</th>\n",
              "      <td>342</td>\n",
              "      <td>336.0</td>\n",
              "      <td>211.1</td>\n",
              "      <td>28.9</td>\n",
              "      <td>37.1</td>\n",
              "      <td>27.5</td>\n",
              "      <td>20.2</td>\n",
              "      <td>90</td>\n",
              "      <td>27</td>\n",
              "    </tr>\n",
              "    <tr>\n",
              "      <th>Camembert</th>\n",
              "      <td>264</td>\n",
              "      <td>314.0</td>\n",
              "      <td>215.9</td>\n",
              "      <td>19.5</td>\n",
              "      <td>103.0</td>\n",
              "      <td>36.4</td>\n",
              "      <td>23.4</td>\n",
              "      <td>60</td>\n",
              "      <td>20</td>\n",
              "    </tr>\n",
              "  </tbody>\n",
              "</table>\n",
              "</div>"
            ],
            "text/plain": [
              "             calories  sodium  calcium  ...  proteines  cholesterol  magnesium\n",
              "Fromages                                ...                                   \n",
              "CarredelEst       314   353.5     72.6  ...       21.0           70         20\n",
              "Babybel           314   238.0    209.8  ...       22.6           70         27\n",
              "Beaufort          401   112.0    259.4  ...       26.6          120         41\n",
              "Bleu              342   336.0    211.1  ...       20.2           90         27\n",
              "Camembert         264   314.0    215.9  ...       23.4           60         20\n",
              "\n",
              "[5 rows x 9 columns]"
            ]
          },
          "metadata": {
            "tags": []
          },
          "execution_count": 9
        }
      ]
    },
    {
      "cell_type": "code",
      "metadata": {
        "id": "QPrScXojALZq",
        "colab_type": "code",
        "colab": {}
      },
      "source": [
        ""
      ],
      "execution_count": null,
      "outputs": []
    }
  ]
}